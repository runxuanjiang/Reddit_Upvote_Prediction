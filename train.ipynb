{
 "cells": [
  {
   "cell_type": "code",
   "execution_count": 1,
   "metadata": {},
   "outputs": [
    {
     "name": "stderr",
     "output_type": "stream",
     "text": [
      "/home/runxuan/anaconda3/envs/ml/lib/python3.9/site-packages/tqdm/auto.py:22: TqdmWarning: IProgress not found. Please update jupyter and ipywidgets. See https://ipywidgets.readthedocs.io/en/stable/user_install.html\n",
      "  from .autonotebook import tqdm as notebook_tqdm\n"
     ]
    }
   ],
   "source": [
    "import numpy as np\n",
    "import pandas as pd\n",
    "from nltk.tokenize import TweetTokenizer\n",
    "import torch\n",
    "from sentence_transformers import SentenceTransformer\n",
    "import matplotlib.pyplot as plt\n",
    "from matplotlib.pyplot import figure\n",
    "import analysis\n",
    "from train import *\n"
   ]
  },
  {
   "cell_type": "code",
   "execution_count": 2,
   "metadata": {},
   "outputs": [],
   "source": [
    "%load_ext autoreload\n",
    "%autoreload 2"
   ]
  },
  {
   "cell_type": "code",
   "execution_count": 4,
   "metadata": {},
   "outputs": [],
   "source": [
    "model = SentenceTransformer('all-MiniLM-L6-v2') "
   ]
  },
  {
   "cell_type": "code",
   "execution_count": 36,
   "metadata": {},
   "outputs": [
    {
     "data": {
      "text/html": [
       "<div>\n",
       "<style scoped>\n",
       "    .dataframe tbody tr th:only-of-type {\n",
       "        vertical-align: middle;\n",
       "    }\n",
       "\n",
       "    .dataframe tbody tr th {\n",
       "        vertical-align: top;\n",
       "    }\n",
       "\n",
       "    .dataframe thead th {\n",
       "        text-align: right;\n",
       "    }\n",
       "</style>\n",
       "<table border=\"1\" class=\"dataframe\">\n",
       "  <thead>\n",
       "    <tr style=\"text-align: right;\">\n",
       "      <th></th>\n",
       "      <th>Title</th>\n",
       "      <th>Text</th>\n",
       "      <th>Upvotes</th>\n",
       "      <th>Subreddit</th>\n",
       "      <th>Num_comments</th>\n",
       "      <th>nsfw</th>\n",
       "      <th>Upvote_ratio</th>\n",
       "      <th>Has_text</th>\n",
       "    </tr>\n",
       "  </thead>\n",
       "  <tbody>\n",
       "    <tr>\n",
       "      <th>0</th>\n",
       "      <td>The best way to go unrecognized by others thes...</td>\n",
       "      <td>the best way to go unrecognized by others thes...</td>\n",
       "      <td>1</td>\n",
       "      <td>Showerthoughts</td>\n",
       "      <td>1</td>\n",
       "      <td>False</td>\n",
       "      <td>1.00</td>\n",
       "      <td>True</td>\n",
       "    </tr>\n",
       "    <tr>\n",
       "      <th>1</th>\n",
       "      <td>Evaporated black coffee is a direct measure of...</td>\n",
       "      <td>evaporated black coffee is a direct measure of...</td>\n",
       "      <td>3</td>\n",
       "      <td>Showerthoughts</td>\n",
       "      <td>13</td>\n",
       "      <td>False</td>\n",
       "      <td>0.67</td>\n",
       "      <td>True</td>\n",
       "    </tr>\n",
       "    <tr>\n",
       "      <th>2</th>\n",
       "      <td>You are close to someone on discord when they ...</td>\n",
       "      <td>you are close to someone on discord when they ...</td>\n",
       "      <td>1</td>\n",
       "      <td>Showerthoughts</td>\n",
       "      <td>1</td>\n",
       "      <td>False</td>\n",
       "      <td>0.57</td>\n",
       "      <td>True</td>\n",
       "    </tr>\n",
       "    <tr>\n",
       "      <th>3</th>\n",
       "      <td>Every POV Is Actually A Camera´s POV</td>\n",
       "      <td>every pov is actually a camera´s pov</td>\n",
       "      <td>1</td>\n",
       "      <td>Showerthoughts</td>\n",
       "      <td>1</td>\n",
       "      <td>False</td>\n",
       "      <td>1.00</td>\n",
       "      <td>True</td>\n",
       "    </tr>\n",
       "    <tr>\n",
       "      <th>4</th>\n",
       "      <td>If I can’t believe it’s not butter isn’t butte...</td>\n",
       "      <td>if i can’t believe it’s not butter isn’t butte...</td>\n",
       "      <td>1</td>\n",
       "      <td>Showerthoughts</td>\n",
       "      <td>1</td>\n",
       "      <td>False</td>\n",
       "      <td>1.00</td>\n",
       "      <td>True</td>\n",
       "    </tr>\n",
       "    <tr>\n",
       "      <th>...</th>\n",
       "      <td>...</td>\n",
       "      <td>...</td>\n",
       "      <td>...</td>\n",
       "      <td>...</td>\n",
       "      <td>...</td>\n",
       "      <td>...</td>\n",
       "      <td>...</td>\n",
       "      <td>...</td>\n",
       "    </tr>\n",
       "    <tr>\n",
       "      <th>19995</th>\n",
       "      <td>Rejecting jokes about minorities reinforces th...</td>\n",
       "      <td>rejecting jokes about minorities reinforces th...</td>\n",
       "      <td>0</td>\n",
       "      <td>Showerthoughts</td>\n",
       "      <td>15</td>\n",
       "      <td>False</td>\n",
       "      <td>0.50</td>\n",
       "      <td>True</td>\n",
       "    </tr>\n",
       "    <tr>\n",
       "      <th>19996</th>\n",
       "      <td>10/10 would shower again.</td>\n",
       "      <td>10/10 would shower again.</td>\n",
       "      <td>1</td>\n",
       "      <td>Showerthoughts</td>\n",
       "      <td>1</td>\n",
       "      <td>False</td>\n",
       "      <td>1.00</td>\n",
       "      <td>True</td>\n",
       "    </tr>\n",
       "    <tr>\n",
       "      <th>19997</th>\n",
       "      <td>Pirates get a bad wrap, as they were one of th...</td>\n",
       "      <td>pirates get a bad wrap, as they were one of th...</td>\n",
       "      <td>44</td>\n",
       "      <td>Showerthoughts</td>\n",
       "      <td>10</td>\n",
       "      <td>False</td>\n",
       "      <td>0.80</td>\n",
       "      <td>True</td>\n",
       "    </tr>\n",
       "    <tr>\n",
       "      <th>19998</th>\n",
       "      <td>Saying you wear your partner’s underwear might...</td>\n",
       "      <td>saying you wear your partner’s underwear might...</td>\n",
       "      <td>3</td>\n",
       "      <td>Showerthoughts</td>\n",
       "      <td>3</td>\n",
       "      <td>False</td>\n",
       "      <td>0.59</td>\n",
       "      <td>True</td>\n",
       "    </tr>\n",
       "    <tr>\n",
       "      <th>19999</th>\n",
       "      <td>Since we are made of atoms, and atoms never to...</td>\n",
       "      <td>since we are made of atoms, and atoms never to...</td>\n",
       "      <td>1</td>\n",
       "      <td>Showerthoughts</td>\n",
       "      <td>1</td>\n",
       "      <td>False</td>\n",
       "      <td>1.00</td>\n",
       "      <td>True</td>\n",
       "    </tr>\n",
       "  </tbody>\n",
       "</table>\n",
       "<p>20000 rows × 8 columns</p>\n",
       "</div>"
      ],
      "text/plain": [
       "                                                   Title  \\\n",
       "0      The best way to go unrecognized by others thes...   \n",
       "1      Evaporated black coffee is a direct measure of...   \n",
       "2      You are close to someone on discord when they ...   \n",
       "3                   Every POV Is Actually A Camera´s POV   \n",
       "4      If I can’t believe it’s not butter isn’t butte...   \n",
       "...                                                  ...   \n",
       "19995  Rejecting jokes about minorities reinforces th...   \n",
       "19996                          10/10 would shower again.   \n",
       "19997  Pirates get a bad wrap, as they were one of th...   \n",
       "19998  Saying you wear your partner’s underwear might...   \n",
       "19999  Since we are made of atoms, and atoms never to...   \n",
       "\n",
       "                                                    Text  Upvotes  \\\n",
       "0      the best way to go unrecognized by others thes...        1   \n",
       "1      evaporated black coffee is a direct measure of...        3   \n",
       "2      you are close to someone on discord when they ...        1   \n",
       "3                  every pov is actually a camera´s pov         1   \n",
       "4      if i can’t believe it’s not butter isn’t butte...        1   \n",
       "...                                                  ...      ...   \n",
       "19995  rejecting jokes about minorities reinforces th...        0   \n",
       "19996                         10/10 would shower again.         1   \n",
       "19997  pirates get a bad wrap, as they were one of th...       44   \n",
       "19998  saying you wear your partner’s underwear might...        3   \n",
       "19999  since we are made of atoms, and atoms never to...        1   \n",
       "\n",
       "            Subreddit  Num_comments   nsfw  Upvote_ratio  Has_text  \n",
       "0      Showerthoughts             1  False          1.00      True  \n",
       "1      Showerthoughts            13  False          0.67      True  \n",
       "2      Showerthoughts             1  False          0.57      True  \n",
       "3      Showerthoughts             1  False          1.00      True  \n",
       "4      Showerthoughts             1  False          1.00      True  \n",
       "...               ...           ...    ...           ...       ...  \n",
       "19995  Showerthoughts            15  False          0.50      True  \n",
       "19996  Showerthoughts             1  False          1.00      True  \n",
       "19997  Showerthoughts            10  False          0.80      True  \n",
       "19998  Showerthoughts             3  False          0.59      True  \n",
       "19999  Showerthoughts             1  False          1.00      True  \n",
       "\n",
       "[20000 rows x 8 columns]"
      ]
     },
     "execution_count": 36,
     "metadata": {},
     "output_type": "execute_result"
    }
   ],
   "source": [
    "subreddit = \"Showerthoughts\"\n",
    "df = pd.read_csv(f\"./data/csvdata/{subreddit}.csv\")\n",
    "df = analysis.cleanDataConcatenate(df)\n",
    "df = df[:20000]\n",
    "df"
   ]
  },
  {
   "cell_type": "code",
   "execution_count": 32,
   "metadata": {},
   "outputs": [
    {
     "data": {
      "image/png": "[encoded data removed]",
      "text/plain": [
       "<Figure size 1440x720 with 1 Axes>"
      ]
     },
     "metadata": {
      "needs_background": "light"
     },
     "output_type": "display_data"
    }
   ],
   "source": [
    "analysis.upvoteHist(df)"
   ]
  },
  {
   "cell_type": "code",
   "execution_count": 40,
   "metadata": {},
   "outputs": [
    {
     "name": "stderr",
     "output_type": "stream",
     "text": [
      "/tmp/ipykernel_12371/1186738976.py:3: SettingWithCopyWarning: \n",
      "A value is trying to be set on a copy of a slice from a DataFrame.\n",
      "Try using .loc[row_indexer,col_indexer] = value instead\n",
      "\n",
      "See the caveats in the documentation: https://pandas.pydata.org/pandas-docs/stable/user_guide/indexing.html#returning-a-view-versus-a-copy\n",
      "  tempdf['Upvotes'] = np.log(tempdf['Upvotes'])\n"
     ]
    },
    {
     "data": {
      "image/png": "[encoded data removed]",
      "text/plain": [
       "<Figure size 1440x720 with 1 Axes>"
      ]
     },
     "metadata": {
      "needs_background": "light"
     },
     "output_type": "display_data"
    }
   ],
   "source": [
    "    figure(figsize=(20, 10))\n",
    "    tempdf = df[df['Upvotes'] > 5]\n",
    "    tempdf['Upvotes'] = np.log(tempdf['Upvotes'])\n",
    "    plt.hist(tempdf['Upvotes'], bins=50, log=False, edgecolor='black', color='green')\n",
    "    plt.title(f\"Distribution of upvotes for {subreddit}\")\n",
    "    plt.show()"
   ]
  },
  {
   "cell_type": "code",
   "execution_count": 7,
   "metadata": {},
   "outputs": [
    {
     "data": {
      "image/png": "[encoded data removed]",
      "text/plain": [
       "<Figure size 1440x720 with 1 Axes>"
      ]
     },
     "metadata": {
      "needs_background": "light"
     },
     "output_type": "display_data"
    }
   ],
   "source": [
    "analysis.numWordsHist(df)"
   ]
  },
  {
   "cell_type": "code",
   "execution_count": 37,
   "metadata": {},
   "outputs": [],
   "source": [
    "X = model.encode(df['Text'].to_numpy())\n",
    "y = df['Upvotes'].to_numpy()"
   ]
  },
  {
   "cell_type": "code",
   "execution_count": null,
   "metadata": {},
   "outputs": [],
   "source": [
    "crossValidate(X, y, trainOLS, evalsklearn, mse)"
   ]
  },
  {
   "cell_type": "code",
   "execution_count": null,
   "metadata": {},
   "outputs": [],
   "source": [
    "crossValidate(X, y, trainRidge, evalsklearn, mse)"
   ]
  },
  {
   "cell_type": "code",
   "execution_count": null,
   "metadata": {},
   "outputs": [],
   "source": [
    "crossValidate(X, y, trainLasso, evalsklearn, mse)"
   ]
  },
  {
   "cell_type": "code",
   "execution_count": null,
   "metadata": {},
   "outputs": [],
   "source": [
    "crossValidate(X, y, trainElasticNet, evalsklearn, mse)"
   ]
  },
  {
   "cell_type": "code",
   "execution_count": null,
   "metadata": {},
   "outputs": [],
   "source": [
    "crossValidate(X, y, trainRandomForest, evalsklearn, mse)"
   ]
  },
  {
   "cell_type": "code",
   "execution_count": null,
   "metadata": {},
   "outputs": [],
   "source": []
  }
 ],
 "metadata": {
  "interpreter": {
   "hash": "74499b928548608b0eb0346ff49e1f03cf6797e5c5805561b83f953ccdeda01b"
  },
  "kernelspec": {
   "display_name": "Python 3.9.7 ('ml')",
   "language": "python",
   "name": "python3"
  },
  "language_info": {
   "codemirror_mode": {
    "name": "ipython",
    "version": 3
   },
   "file_extension": ".py",
   "mimetype": "text/x-python",
   "name": "python",
   "nbconvert_exporter": "python",
   "pygments_lexer": "ipython3",
   "version": "3.9.7"
  },
  "orig_nbformat": 4
 },
 "nbformat": 4,
 "nbformat_minor": 2
}
